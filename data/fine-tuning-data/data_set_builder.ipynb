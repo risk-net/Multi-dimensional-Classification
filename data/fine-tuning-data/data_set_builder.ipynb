{
 "cells": [
  {
   "cell_type": "code",
   "execution_count": 24,
   "metadata": {},
   "outputs": [],
   "source": [
    "def load_prompt_from_md(md_path: str) -> str:\n",
    "    \"\"\"从Markdown文件中加载提示词\"\"\"\n",
    "    try:\n",
    "        with open(md_path, 'r', encoding='utf-8') as f:\n",
    "            content = f.read()\n",
    "        return content.strip()\n",
    "    except Exception as e:\n",
    "        print(f\"加载特定提示词失败：{e}\")\n",
    "        return \"请对以下AI风险事件进行分类。\""
   ]
  },
  {
   "cell_type": "code",
   "execution_count": 25,
   "metadata": {},
   "outputs": [],
   "source": [
    "import json\n",
    "input_dict = {}\n",
    "result = []\n",
    "with open(\"incident_summary.json\", \"r\", encoding=\"utf-8\") as f:\n",
    "    data=json.load(f)\n",
    "    for i in data:\n",
    "        input_dict[i[\"incident_id\"]]=i[\"generated_summary\"]\n",
    "instruction = load_prompt_from_md(\"risk_taxonomy_prompt.md\")\n",
    "with open(\"incidents_classification_label.json\",\"r\", encoding=\"utf-8\") as f:\n",
    "    for obj in json.load(f):\n",
    "        incident_id= obj[\"incident_id\"]\n",
    "        input = input_dict.get(int(incident_id),\"\")\n",
    "        output={\n",
    "            \"entity\": obj.get(\"entity\", 3),\n",
    "            \"intent\": obj.get(\"intent\", 3),\n",
    "            \"time\": obj.get(\"time\", 3),\n",
    "            \"eu_ai_act_risk_level\": obj.get(\"eu_ai_act_risk_level\", 4),\n",
    "            \"domain_classification\": obj.get(\"domain_classification\", []),\n",
    "        }\n",
    "        train_item = {\n",
    "            \"instruction\": instruction,\n",
    "            \"input\": input,\n",
    "            \"output\": json.dumps(output),\n",
    "        }\n",
    "        result.append(train_item)\n",
    "with open(\"sft_train_data.json\", \"w\", encoding=\"utf-8\") as f:\n",
    "    json.dump(result, f, ensure_ascii=False, indent=4)"
   ]
  },
  {
   "cell_type": "code",
   "execution_count": 26,
   "metadata": {},
   "outputs": [],
   "source": [
    "import random\n",
    "\n",
    "# Split the result list into training and testing sets with a 4:1 ratio\n",
    "random.shuffle(result)\n",
    "split_index = int(len(result) * 0.8)  # 80% for training, 20% for testing\n",
    "train_set = result[:split_index]\n",
    "test_set = result[split_index:]\n",
    "\n",
    "# Save the training and testing sets to separate JSON files\n",
    "with open(\"train_set.json\", \"w\", encoding=\"utf-8\") as train_file:\n",
    "    json.dump(train_set, train_file, ensure_ascii=False, indent=4)\n",
    "\n",
    "with open(\"test_set.json\", \"w\", encoding=\"utf-8\") as test_file:\n",
    "    json.dump(test_set, test_file, ensure_ascii=False, indent=4)"
   ]
  },
  {
   "cell_type": "code",
   "execution_count": 27,
   "metadata": {},
   "outputs": [],
   "source": [
    "with open(\"test_set.json\", \"r\", encoding=\"utf-8\") as f:\n",
    "    test_data = json.load(f)\n",
    "    result=[{\"instruction\":item[\"instruction\"],\"input\":item[\"input\"],\"output\":\"\"}for item in test_data]\n",
    "with open(\"test_set_no_output.json\", \"w\", encoding=\"utf-8\") as f:\n",
    "    json.dump(result, f, ensure_ascii=False, indent=4)"
   ]
  }
 ],
 "metadata": {
  "kernelspec": {
   "display_name": "base",
   "language": "python",
   "name": "python3"
  },
  "language_info": {
   "codemirror_mode": {
    "name": "ipython",
    "version": 3
   },
   "file_extension": ".py",
   "mimetype": "text/x-python",
   "name": "python",
   "nbconvert_exporter": "python",
   "pygments_lexer": "ipython3",
   "version": "3.12.7"
  }
 },
 "nbformat": 4,
 "nbformat_minor": 2
}
